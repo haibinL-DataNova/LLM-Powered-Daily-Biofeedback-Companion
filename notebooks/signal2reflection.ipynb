# Install dependencies if needed
!pip install numpy pandas scikit-learn transformers torch --quiet
#Load Modules
from src.ingest import load_biosignal_data
from src.encoder import encode_signals
from src.llm_generator import generate_feedback
#Load Sample Data
data = load_biosignal_data('../data/sample_biosignals.json')
print("📊 Raw Biosignal Data:")
print(data)
#Encode Signals
embedding = encode_signals(data)
print("🔢 Encoded Summary Embedding:", embedding)
#Generate Feedback
context = {
    "calendar_event": data["calendar_event"],
    "location": data["location"]
}

reflection = generate_feedback(embedding, context)
print("🧘 Daily Reflection:\n", reflection)

